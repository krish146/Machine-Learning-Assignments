{
 "cells": [
  {
   "cell_type": "code",
   "execution_count": 6,
   "id": "a63ce8ba",
   "metadata": {},
   "outputs": [],
   "source": [
    "\n",
    "# ##NORMAL\n",
    "\n",
    "# def coeff(x,y):\n",
    "#     meanx=sum(x)/len(x)\n",
    "#     meany=sum(y)/len(y)\n",
    "#     summ=0\n",
    "#     sst=0\n",
    "#     for i,j in zip(x,y):\n",
    "#         summ+=(i-meanx)*(j-meany)\n",
    "#         sst+=(i-meanx)**2\n",
    "#     print(\"sst\",sst)\n",
    "#     b1=(summ/sst)\n",
    "#     b0=meany-meanx*b1\n",
    "#     return b1,b0\n",
    "\n",
    "# x = [2,4,6,8]\n",
    "# y = [3,7,5,10]\n",
    "# # x =[0,1,2,3,4,5,6,7,8,9]\n",
    "# # y =[1,3,2,5,7,8,8,9,10,12]\n",
    "# b1,b0=coeff(x,y)\n",
    "# print(b1,b0)\n",
    "# print(\"\\npredicted values\")\n",
    "# for i in x:\n",
    "#     predicted=b0+b1*i\n",
    "#     print(predicted)\n"
   ]
  },
  {
   "cell_type": "code",
   "execution_count": 7,
   "id": "54f965b2",
   "metadata": {},
   "outputs": [],
   "source": [
    "import numpy as np"
   ]
  },
  {
   "cell_type": "code",
   "execution_count": 8,
   "id": "d9407437",
   "metadata": {},
   "outputs": [
    {
     "name": "stdout",
     "output_type": "stream",
     "text": [
      "1.1696969696969697 1.2363636363636363\n"
     ]
    }
   ],
   "source": [
    "###NUMPY\n",
    "def coeff(x,y):\n",
    "    meanx=np.mean(x)\n",
    "    meany=np.mean(y)\n",
    "    summ=np.sum((x-meanx)*(y-meany))\n",
    "    denominator=np.sum((x-meanx)**2)\n",
    "    b1=(summ/denominator)\n",
    "    b0=meany-meanx*b1\n",
    "    return b1,b0\n",
    "xx =[0,1,2,3,4,5,6,7,8,9]\n",
    "yy =[1,3,2,5,7,8,8,9,10,12]\n",
    "x = np.array(xx)\n",
    "y = np.array(yy) \n",
    "b1,b0=coeff(x,y)\n",
    "print(b1,b0)\n",
    "\n",
    "# for i in x:\n",
    "#     predicted=b0+b1*i\n",
    "#     print(predicted)"
   ]
  },
  {
   "cell_type": "code",
   "execution_count": 9,
   "id": "7a0b4a1d",
   "metadata": {},
   "outputs": [
    {
     "name": "stdout",
     "output_type": "stream",
     "text": [
      "Rsquare value is : 0.9525380386139879\n",
      "SSE value is     : 5.624242424242439\n"
     ]
    }
   ],
   "source": [
    "predicted=[]\n",
    "for i in x:\n",
    "    predicted.append(b0+b1*i)\n",
    "predicted=np.array(predicted)\n",
    "ssr=np.sum((predicted-np.mean(y))**2) \n",
    "sst=np.sum((y-np.mean(y))**2)#its mean of y and y coordinates for SST,SSR,SSE\n",
    "rsquare=(ssr/sst)\n",
    "print(\"Rsquare value is :\",rsquare)\n",
    "print(\"SSE value is     :\",sst-ssr)\n",
    "    "
   ]
  },
  {
   "cell_type": "code",
   "execution_count": 10,
   "id": "e3477964",
   "metadata": {},
   "outputs": [
    {
     "name": "stdout",
     "output_type": "stream",
     "text": [
      "~~~ USING GRADIENT DESCENT FULL BATCH~~~\n",
      "[0 1 2 3 4 5 6 7 8 9] [ 1  3  2  5  7  8  8  9 10 12]\n",
      "final values of 1.2236578227645651 1.1717232259218207\n",
      "Rsquare value is : 0.955842130478207\n",
      "SSE value is     : 5.232707538332477\n"
     ]
    }
   ],
   "source": [
    "#full batch\n",
    "print(\"~~~ USING GRADIENT DESCENT FULL BATCH~~~\")\n",
    "print(x,y)\n",
    "intercept=0\n",
    "regression_slope=1\n",
    "learning_rate=0.01\n",
    "for i in range(0,800):\n",
    "    \n",
    "    intercept_derivative=np.sum(-2*(y-(intercept+regression_slope*x)))#derivate w.r.s to intercept\n",
    "    slope_derivative=np.sum(-2*x*(y-(intercept+regression_slope*x)))#derivate w.r.s to slope\n",
    " \n",
    "    intercept-=intercept_derivative*learning_rate*(1/10) #recalculating intercept\n",
    "    regression_slope-=slope_derivative*learning_rate*(1/10)\n",
    "#     print(\"iteration number : \",i)\n",
    "#     print(\"intercept:\",intercept,\"\\n\",\"\\bregression_Slope:\",regression_slope)\n",
    "#     print()\n",
    "print(\"final values of {} {}\".format(intercept,regression_slope))\n",
    "\n",
    "predicted=[]\n",
    "for i in x:\n",
    "    predicted.append(intercept+regression_slope*i)\n",
    "predicted=np.array(predicted)\n",
    "ssr=np.sum((predicted-np.mean(y))**2) \n",
    "sst=np.sum((y-np.mean(y))**2)#its mean of y and y coordinates for SST,SSR,SSE\n",
    "rsquare=(ssr/sst)\n",
    "print(\"Rsquare value is :\",rsquare)\n",
    "print(\"SSE value is     :\",sst-ssr)"
   ]
  },
  {
   "cell_type": "code",
   "execution_count": 14,
   "id": "31aa73d2",
   "metadata": {},
   "outputs": [],
   "source": [
    "from sklearn import datasets\n",
    "from sklearn import datasets,linear_model\n",
    "from sklearn.model_selection import train_test_split\n",
    "import pandas as pd"
   ]
  },
  {
   "cell_type": "code",
   "execution_count": 16,
   "id": "492b3007",
   "metadata": {},
   "outputs": [],
   "source": [
    "from sklearn import datasets\n",
    "from sklearn.model_selection import train_test_split\n",
    "import pandas as pd\n",
    "\n",
    "boston_data = datasets.load_boston()\n",
    "df = pd.DataFrame(data=boston_data['data'])\n",
    "boston = datasets.load_boston(return_X_y=False)\n",
    "X = boston.data\n",
    "y = boston.target\n",
    "\n",
    "X_train, X_test, y_train, y_test = train_test_split(X, y, test_size=0.4, random_state=1)"
   ]
  },
  {
   "cell_type": "code",
   "execution_count": null,
   "id": "5c81d6e5",
   "metadata": {},
   "outputs": [],
   "source": []
  },
  {
   "cell_type": "code",
   "execution_count": null,
   "id": "ccbdb9e5",
   "metadata": {},
   "outputs": [],
   "source": []
  }
 ],
 "metadata": {
  "kernelspec": {
   "display_name": "Python 3 (ipykernel)",
   "language": "python",
   "name": "python3"
  },
  "language_info": {
   "codemirror_mode": {
    "name": "ipython",
    "version": 3
   },
   "file_extension": ".py",
   "mimetype": "text/x-python",
   "name": "python",
   "nbconvert_exporter": "python",
   "pygments_lexer": "ipython3",
   "version": "3.9.12"
  }
 },
 "nbformat": 4,
 "nbformat_minor": 5
}
